{
 "cells": [
  {
   "cell_type": "code",
   "execution_count": 88,
   "id": "c64010d2",
   "metadata": {},
   "outputs": [],
   "source": [
    "import pandas as pd\n",
    "from sklearn.model_selection import train_test_split\n",
    "from sklearn.feature_extraction.text import TfidfVectorizer\n",
    "from sklearn import svm\n",
    "import matplotlib.pyplot as plt\n"
   ]
  },
  {
   "cell_type": "markdown",
   "id": "5ca0dfde",
   "metadata": {},
   "source": [
    "#  Step 1: read Dataset Preparation"
   ]
  },
  {
   "cell_type": "code",
   "execution_count": 89,
   "id": "14a17464",
   "metadata": {},
   "outputs": [],
   "source": [
    "\n",
    "df = pd.read_csv('spam.csv')\n",
    "\n"
   ]
  },
  {
   "cell_type": "markdown",
   "id": "d90e9742",
   "metadata": {},
   "source": [
    "# Step 2: Extract the Features"
   ]
  },
  {
   "cell_type": "code",
   "execution_count": 90,
   "id": "ec776d3d",
   "metadata": {},
   "outputs": [],
   "source": [
    "\n",
    "# Split the dataset into features (email content) and labels (spam or not spam)\n",
    "X = df['v2']\n",
    "y = df['v1']"
   ]
  },
  {
   "cell_type": "markdown",
   "id": "a9485b6c",
   "metadata": {},
   "source": [
    "# Step 3: Model Training"
   ]
  },
  {
   "cell_type": "code",
   "execution_count": 91,
   "id": "cf9914ad",
   "metadata": {},
   "outputs": [
    {
     "data": {
      "text/plain": [
       "SVC()"
      ]
     },
     "execution_count": 91,
     "metadata": {},
     "output_type": "execute_result"
    }
   ],
   "source": [
    "\n",
    "X_train, X_test, y_train, y_test = train_test_split(X, y, test_size=0.2, random_state=42)\n",
    "\n",
    "# Convert the text data into numerical features using TF-IDF vectorization\n",
    "vectorizer = TfidfVectorizer()\n",
    "X_train = vectorizer.fit_transform(X_train)\n",
    "X_test = vectorizer.transform(X_test)\n",
    "\n",
    "# Choose svm algorithm\n",
    "classifier = svm.SVC()\n",
    "classifier.fit(X_train, y_train)"
   ]
  },
  {
   "cell_type": "markdown",
   "id": "a8c37623",
   "metadata": {},
   "source": [
    "# Step 4: Model Evaluation"
   ]
  },
  {
   "cell_type": "code",
   "execution_count": 107,
   "id": "98c879e5",
   "metadata": {},
   "outputs": [
    {
     "name": "stdout",
     "output_type": "stream",
     "text": [
      "Accuracy: 0.9820627802690582\n"
     ]
    }
   ],
   "source": [
    "\n",
    "# Evaluate the model performance on the testing set\n",
    "accuracy = classifier.score(X_test, y_test)\n",
    "print(\"Accuracy:\", accuracy)\n"
   ]
  },
  {
   "cell_type": "markdown",
   "id": "823ee4b8",
   "metadata": {},
   "source": [
    "# Step 5: Deployment and Testing"
   ]
  },
  {
   "cell_type": "code",
   "execution_count": 105,
   "id": "d03506cf",
   "metadata": {},
   "outputs": [],
   "source": [
    "\n",
    "# Test the model with new, unseen data\n",
    "new_emails = [\n",
    "   \"3i4jjfkk \",\n",
    "    \"my name is hassan nafed\",\n",
    "    \"#jfkf\",\n",
    "    \"hassan 23\",\n",
    "    \"!@@#$$%&*\",\n",
    "    \"dengerous\",\n",
    "    \"FreeMsg Hey there darling it's been 3 week's now and no word back! I'd like some fun you up for it still? Tb ok! XxX std chgs to send, å£1.50 to rcv\",\n",
    "    \"Had your mobile 11 months or more? U R entitled to Update to the latest colour mobiles with camera for Free! Call The Mobile Update Co FREE on 08002986030\"\n",
    "]\n"
   ]
  },
  {
   "cell_type": "code",
   "execution_count": 106,
   "id": "d85125b6",
   "metadata": {},
   "outputs": [
    {
     "name": "stdout",
     "output_type": "stream",
     "text": [
      "Predictions: ['ham' 'ham' 'ham' 'ham' 'ham' 'ham' 'spam' 'spam']\n"
     ]
    }
   ],
   "source": [
    "new_emails_features = vectorizer.transform(new_emails)\n",
    "predictions = classifier.predict(new_emails_features)\n",
    "print(\"Predictions:\", predictions)"
   ]
  },
  {
   "cell_type": "code",
   "execution_count": null,
   "id": "55d44dba",
   "metadata": {},
   "outputs": [],
   "source": []
  }
 ],
 "metadata": {
  "kernelspec": {
   "display_name": "Python 3 (ipykernel)",
   "language": "python",
   "name": "python3"
  },
  "language_info": {
   "codemirror_mode": {
    "name": "ipython",
    "version": 3
   },
   "file_extension": ".py",
   "mimetype": "text/x-python",
   "name": "python",
   "nbconvert_exporter": "python",
   "pygments_lexer": "ipython3",
   "version": "3.9.13"
  }
 },
 "nbformat": 4,
 "nbformat_minor": 5
}
